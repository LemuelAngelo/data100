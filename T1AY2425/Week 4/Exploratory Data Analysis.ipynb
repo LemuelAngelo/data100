{
 "cells": [
  {
   "cell_type": "markdown",
   "metadata": {},
   "source": [
    "# Exploratory Data Analysis\n",
    "\n",
    "In this notebook we will show the different functions in pandas that can help us calculate for important metrics that we look at when we explore the dataset."
   ]
  },
  {
   "cell_type": "code",
   "execution_count": 1,
   "metadata": {},
   "outputs": [],
   "source": [
    "# Importing the libraries\n",
    "\n",
    "import pandas as pd\n",
    "import numpy as np\n",
    "import matplotlib.pyplot as plt"
   ]
  },
  {
   "cell_type": "markdown",
   "metadata": {},
   "source": [
    "# Loading the Dataset\n",
    "\n",
    "For this section of the lecture, we will make use of the Philippine condiments' data from PSA. This contains the monthly price of usualy condiments used by Filipinos (Garlic, onion, etc.)"
   ]
  },
  {
   "cell_type": "code",
   "execution_count": 3,
   "metadata": {},
   "outputs": [],
   "source": [
    "df_condiments = pd.read_excel('./Condiments Price.xlsx')"
   ]
  },
  {
   "cell_type": "markdown",
   "metadata": {},
   "source": [
    "# Total Variables and Observations\n",
    "\n",
    "We need to check how many columns and rows we are dealing with before we proceed with analyzing the different columns available in the dataset."
   ]
  },
  {
   "cell_type": "code",
   "execution_count": 6,
   "metadata": {},
   "outputs": [
    {
     "data": {
      "text/plain": [
       "(37310, 6)"
      ]
     },
     "execution_count": 6,
     "metadata": {},
     "output_type": "execute_result"
    }
   ],
   "source": [
    "df_condiments.shape"
   ]
  },
  {
   "cell_type": "markdown",
   "metadata": {},
   "source": [
    "# Total Unique Values\n",
    "\n",
    "Sometimes we need to investigate how many unique values we are to expect from a dataset. We can do this in multiple ways. We can make use of the `.nunique()` function of pandas and this allows you to get the total unique values across all columns of your dataframe."
   ]
  },
  {
   "cell_type": "code",
   "execution_count": 8,
   "metadata": {},
   "outputs": [
    {
     "data": {
      "text/plain": [
       "Region            17\n",
       "Province          82\n",
       "Crop               7\n",
       "Date              65\n",
       "Price per KG    5388\n",
       "ProperDate        65\n",
       "dtype: int64"
      ]
     },
     "execution_count": 8,
     "metadata": {},
     "output_type": "execute_result"
    }
   ],
   "source": [
    "df_condiments.nunique()"
   ]
  },
  {
   "cell_type": "code",
   "execution_count": 10,
   "metadata": {},
   "outputs": [
    {
     "data": {
      "text/plain": [
       "17"
      ]
     },
     "execution_count": 10,
     "metadata": {},
     "output_type": "execute_result"
    }
   ],
   "source": [
    "# You can also apply the .nunique() function to a specific column only\n",
    "df_condiments['Region'].nunique()"
   ]
  },
  {
   "cell_type": "markdown",
   "metadata": {},
   "source": [
    "# Showing all unique values\n",
    "\n",
    "To show all unique values, you can use the .unique() or set() function."
   ]
  },
  {
   "cell_type": "code",
   "execution_count": 14,
   "metadata": {},
   "outputs": [
    {
     "data": {
      "text/plain": [
       "array(['Cordillera Administrative Region', 'Region XIII', 'Region VI',\n",
       "       'Region V', 'Region III', 'ARMM', 'Region II', 'Region IV - A',\n",
       "       'Region VIII', 'Region VII', 'Region X', 'Region XII', 'Region XI',\n",
       "       'Region I', 'MIMAROPA', 'Region IX', 'National Capital Region'],\n",
       "      dtype=object)"
      ]
     },
     "execution_count": 14,
     "metadata": {},
     "output_type": "execute_result"
    }
   ],
   "source": [
    "df_condiments['Region'].unique()"
   ]
  },
  {
   "cell_type": "code",
   "execution_count": 15,
   "metadata": {},
   "outputs": [
    {
     "data": {
      "text/plain": [
       "{'ARMM',\n",
       " 'Cordillera Administrative Region',\n",
       " 'MIMAROPA',\n",
       " 'National Capital Region',\n",
       " 'Region I',\n",
       " 'Region II',\n",
       " 'Region III',\n",
       " 'Region IV - A',\n",
       " 'Region IX',\n",
       " 'Region V',\n",
       " 'Region VI',\n",
       " 'Region VII',\n",
       " 'Region VIII',\n",
       " 'Region X',\n",
       " 'Region XI',\n",
       " 'Region XII',\n",
       " 'Region XIII'}"
      ]
     },
     "execution_count": 15,
     "metadata": {},
     "output_type": "execute_result"
    }
   ],
   "source": [
    "set(df_condiments['Region'])"
   ]
  },
  {
   "cell_type": "markdown",
   "metadata": {},
   "source": [
    "# Getting Totals\n",
    "\n",
    "Getting summary statistics or totals depends on the data type that you are analyzing\n",
    "\n",
    "## Categorical Variables"
   ]
  },
  {
   "cell_type": "code",
   "execution_count": 21,
   "metadata": {},
   "outputs": [
    {
     "data": {
      "text/plain": [
       "37310"
      ]
     },
     "execution_count": 21,
     "metadata": {},
     "output_type": "execute_result"
    }
   ],
   "source": [
    "df_condiments['Province'].count()"
   ]
  },
  {
   "cell_type": "code",
   "execution_count": 22,
   "metadata": {},
   "outputs": [
    {
     "data": {
      "text/plain": [
       "82"
      ]
     },
     "execution_count": 22,
     "metadata": {},
     "output_type": "execute_result"
    }
   ],
   "source": [
    "df_condiments['Province'].nunique()"
   ]
  },
  {
   "cell_type": "code",
   "execution_count": 24,
   "metadata": {
    "scrolled": true
   },
   "outputs": [
    {
     "data": {
      "text/plain": [
       "Region\n",
       "ARMM                                5\n",
       "Cordillera Administrative Region    6\n",
       "MIMAROPA                            5\n",
       "National Capital Region             1\n",
       "Region I                            4\n",
       "Region II                           5\n",
       "Region III                          7\n",
       "Region IV - A                       5\n",
       "Region IX                           3\n",
       "Region V                            6\n",
       "Region VI                           6\n",
       "Region VII                          4\n",
       "Region VIII                         6\n",
       "Region X                            5\n",
       "Region XI                           5\n",
       "Region XII                          4\n",
       "Region XIII                         5\n",
       "Name: Province, dtype: int64"
      ]
     },
     "execution_count": 24,
     "metadata": {},
     "output_type": "execute_result"
    }
   ],
   "source": [
    "df_condiments.groupby(['Region'])['Province'].nunique()"
   ]
  },
  {
   "cell_type": "markdown",
   "metadata": {},
   "source": [
    "### Exercise\n",
    "\n",
    "How many unique condiments are there per region?"
   ]
  },
  {
   "cell_type": "code",
   "execution_count": 29,
   "metadata": {},
   "outputs": [
    {
     "data": {
      "text/plain": [
       "Region\n",
       "ARMM                                7\n",
       "Cordillera Administrative Region    7\n",
       "MIMAROPA                            7\n",
       "National Capital Region             7\n",
       "Region I                            7\n",
       "Region II                           7\n",
       "Region III                          7\n",
       "Region IV - A                       7\n",
       "Region IX                           7\n",
       "Region V                            7\n",
       "Region VI                           7\n",
       "Region VII                          7\n",
       "Region VIII                         7\n",
       "Region X                            7\n",
       "Region XI                           7\n",
       "Region XII                          7\n",
       "Region XIII                         7\n",
       "Name: Crop, dtype: int64"
      ]
     },
     "execution_count": 29,
     "metadata": {},
     "output_type": "execute_result"
    }
   ],
   "source": [
    "df_condiments.groupby(['Region'])['Crop'].nunique()"
   ]
  },
  {
   "cell_type": "markdown",
   "metadata": {},
   "source": [
    "How many unique condiments are there across regions and province"
   ]
  },
  {
   "cell_type": "code",
   "execution_count": 31,
   "metadata": {},
   "outputs": [
    {
     "data": {
      "text/plain": [
       "Region       Province         \n",
       "ARMM         Basilan              7\n",
       "             Lanao del Sur        7\n",
       "             Maguindanao          7\n",
       "             Sulu                 7\n",
       "             Tawi-Tawi            7\n",
       "                                 ..\n",
       "Region XIII  Agusan del Norte     7\n",
       "             Agusan del Sur       7\n",
       "             Dinagat Islands      7\n",
       "             Surigao del Norte    7\n",
       "             Surigao del Sur      7\n",
       "Name: Crop, Length: 82, dtype: int64"
      ]
     },
     "execution_count": 31,
     "metadata": {},
     "output_type": "execute_result"
    }
   ],
   "source": [
    "df_condiments.groupby(['Region','Province'])['Crop'].nunique()"
   ]
  },
  {
   "cell_type": "markdown",
   "metadata": {},
   "source": [
    "How many datapoints are available across regions and province?"
   ]
  },
  {
   "cell_type": "code",
   "execution_count": 33,
   "metadata": {},
   "outputs": [
    {
     "data": {
      "text/plain": [
       "Region       Province         \n",
       "ARMM         Basilan              455\n",
       "             Lanao del Sur        455\n",
       "             Maguindanao          455\n",
       "             Sulu                 455\n",
       "             Tawi-Tawi            455\n",
       "                                 ... \n",
       "Region XIII  Agusan del Norte     455\n",
       "             Agusan del Sur       455\n",
       "             Dinagat Islands      455\n",
       "             Surigao del Norte    455\n",
       "             Surigao del Sur      455\n",
       "Name: Crop, Length: 82, dtype: int64"
      ]
     },
     "execution_count": 33,
     "metadata": {},
     "output_type": "execute_result"
    }
   ],
   "source": [
    "df_condiments.groupby(['Region','Province'])['Crop'].count()"
   ]
  },
  {
   "cell_type": "markdown",
   "metadata": {},
   "source": [
    "## Continuous Variables"
   ]
  },
  {
   "cell_type": "code",
   "execution_count": 35,
   "metadata": {},
   "outputs": [
    {
     "data": {
      "text/plain": [
       "1746674.1799999997"
      ]
     },
     "execution_count": 35,
     "metadata": {},
     "output_type": "execute_result"
    }
   ],
   "source": [
    "df_condiments['Price per KG'].sum()"
   ]
  },
  {
   "cell_type": "code",
   "execution_count": 36,
   "metadata": {
    "scrolled": true
   },
   "outputs": [
    {
     "data": {
      "text/plain": [
       "Region\n",
       "ARMM                                 70756.12\n",
       "Cordillera Administrative Region    144058.86\n",
       "MIMAROPA                             86118.32\n",
       "National Capital Region              46075.77\n",
       "Region I                             72197.28\n",
       "Region II                            95086.14\n",
       "Region III                          195213.97\n",
       "Region IV - A                        86615.20\n",
       "Region IX                            75672.27\n",
       "Region V                            143301.69\n",
       "Region VI                           114633.37\n",
       "Region VII                           81189.78\n",
       "Region VIII                         157574.01\n",
       "Region X                            109788.96\n",
       "Region XI                            80505.20\n",
       "Region XII                           91380.59\n",
       "Region XIII                          96506.65\n",
       "Name: Price per KG, dtype: float64"
      ]
     },
     "execution_count": 36,
     "metadata": {},
     "output_type": "execute_result"
    }
   ],
   "source": [
    "df_condiments.groupby(['Region'])['Price per KG'].sum()"
   ]
  },
  {
   "cell_type": "markdown",
   "metadata": {},
   "source": [
    "### Exercise"
   ]
  },
  {
   "cell_type": "code",
   "execution_count": 39,
   "metadata": {},
   "outputs": [
    {
     "data": {
      "text/plain": [
       "Region       Province         Date     \n",
       "ARMM         Basilan          2018 - 01    171.01\n",
       "                              2018 - 02    171.01\n",
       "                              2018 - 03    171.01\n",
       "                              2018 - 04    168.17\n",
       "                              2018 - 05    168.17\n",
       "                                            ...  \n",
       "Region XIII  Surigao del Sur  2023 - 01    725.00\n",
       "                              2023 - 02    500.00\n",
       "                              2023 - 03    355.00\n",
       "                              2023 - 04    278.75\n",
       "                              2023 - 05      0.00\n",
       "Name: Price per KG, Length: 5330, dtype: float64"
      ]
     },
     "execution_count": 39,
     "metadata": {},
     "output_type": "execute_result"
    }
   ],
   "source": [
    "df_condiments.groupby(['Region', 'Province', 'Date'])['Price per KG'].sum()"
   ]
  },
  {
   "cell_type": "markdown",
   "metadata": {},
   "source": [
    "# Measures of Central Tendency\n",
    "\n",
    "## Mean"
   ]
  },
  {
   "cell_type": "code",
   "execution_count": 45,
   "metadata": {},
   "outputs": [
    {
     "data": {
      "text/plain": [
       "46.81517502010011"
      ]
     },
     "execution_count": 45,
     "metadata": {},
     "output_type": "execute_result"
    }
   ],
   "source": [
    "# As a whole\n",
    "df_condiments['Price per KG'].mean()"
   ]
  },
  {
   "cell_type": "code",
   "execution_count": 52,
   "metadata": {},
   "outputs": [
    {
     "data": {
      "text/plain": [
       "Region       Crop                                \n",
       "ARMM         BELL PEPPER, 1 KG                         0.000000\n",
       "             GARLIC, IMPORTED, 1 KG                   45.328154\n",
       "             GARLIC, NATIVE, 1 KG                     59.831662\n",
       "             GINGER, LOOSE, 1 KG                      20.804154\n",
       "             ONION RED CREOLE (BERMUDA RED), 1 KG     72.383846\n",
       "                                                        ...    \n",
       "Region XIII  GARLIC, NATIVE, 1 KG                     27.021600\n",
       "             GINGER, LOOSE, 1 KG                      68.608708\n",
       "             ONION RED CREOLE (BERMUDA RED), 1 KG    116.589754\n",
       "             ONION WHITE (YELLOW GRANEX), 1 KG         0.000000\n",
       "             ONION, NATIVE, 1 KG                      30.207262\n",
       "Name: Price per KG, Length: 119, dtype: float64"
      ]
     },
     "execution_count": 52,
     "metadata": {},
     "output_type": "execute_result"
    }
   ],
   "source": [
    "# Across Groups\n",
    "df_condiments.groupby(['Region','Crop'])['Price per KG'].mean()"
   ]
  },
  {
   "cell_type": "markdown",
   "metadata": {},
   "source": [
    "## Median"
   ]
  },
  {
   "cell_type": "code",
   "execution_count": 49,
   "metadata": {},
   "outputs": [
    {
     "data": {
      "text/plain": [
       "0.0"
      ]
     },
     "execution_count": 49,
     "metadata": {},
     "output_type": "execute_result"
    }
   ],
   "source": [
    "# As a whole\n",
    "df_condiments['Price per KG'].median()"
   ]
  },
  {
   "cell_type": "code",
   "execution_count": 51,
   "metadata": {},
   "outputs": [
    {
     "data": {
      "text/plain": [
       "Region       Crop                                \n",
       "ARMM         BELL PEPPER, 1 KG                         0.00\n",
       "             GARLIC, IMPORTED, 1 KG                    0.00\n",
       "             GARLIC, NATIVE, 1 KG                      0.00\n",
       "             GINGER, LOOSE, 1 KG                       0.00\n",
       "             ONION RED CREOLE (BERMUDA RED), 1 KG     94.13\n",
       "                                                      ...  \n",
       "Region XIII  GARLIC, NATIVE, 1 KG                      0.00\n",
       "             GINGER, LOOSE, 1 KG                      85.85\n",
       "             ONION RED CREOLE (BERMUDA RED), 1 KG    115.65\n",
       "             ONION WHITE (YELLOW GRANEX), 1 KG         0.00\n",
       "             ONION, NATIVE, 1 KG                       0.00\n",
       "Name: Price per KG, Length: 119, dtype: float64"
      ]
     },
     "execution_count": 51,
     "metadata": {},
     "output_type": "execute_result"
    }
   ],
   "source": [
    "# Per Group\n",
    "df_condiments.groupby(['Region','Crop'])['Price per KG'].median()"
   ]
  },
  {
   "cell_type": "markdown",
   "metadata": {},
   "source": [
    "# Mode"
   ]
  },
  {
   "cell_type": "code",
   "execution_count": 53,
   "metadata": {},
   "outputs": [
    {
     "data": {
      "text/plain": [
       "0    0.0\n",
       "Name: Price per KG, dtype: float64"
      ]
     },
     "execution_count": 53,
     "metadata": {},
     "output_type": "execute_result"
    }
   ],
   "source": [
    "df_condiments['Price per KG'].mode()"
   ]
  },
  {
   "cell_type": "code",
   "execution_count": 54,
   "metadata": {},
   "outputs": [
    {
     "data": {
      "text/plain": [
       "Region       Crop                                \n",
       "ARMM         BELL PEPPER, 1 KG                       0.0\n",
       "             GARLIC, IMPORTED, 1 KG                  0.0\n",
       "             GARLIC, NATIVE, 1 KG                    0.0\n",
       "             GINGER, LOOSE, 1 KG                     0.0\n",
       "             ONION RED CREOLE (BERMUDA RED), 1 KG    0.0\n",
       "                                                    ... \n",
       "Region XIII  GARLIC, NATIVE, 1 KG                    0.0\n",
       "             GINGER, LOOSE, 1 KG                     0.0\n",
       "             ONION RED CREOLE (BERMUDA RED), 1 KG    0.0\n",
       "             ONION WHITE (YELLOW GRANEX), 1 KG       0.0\n",
       "             ONION, NATIVE, 1 KG                     0.0\n",
       "Name: Price per KG, Length: 119, dtype: object"
      ]
     },
     "execution_count": 54,
     "metadata": {},
     "output_type": "execute_result"
    }
   ],
   "source": [
    "df_condiments.groupby(['Region','Crop'])['Price per KG'].agg(pd.Series.mode)"
   ]
  },
  {
   "cell_type": "markdown",
   "metadata": {},
   "source": [
    "# Measure of Dispersion\n",
    "\n",
    "## Standard Deviation"
   ]
  },
  {
   "cell_type": "code",
   "execution_count": 60,
   "metadata": {},
   "outputs": [
    {
     "data": {
      "text/plain": [
       "71.23426285529182"
      ]
     },
     "execution_count": 60,
     "metadata": {},
     "output_type": "execute_result"
    }
   ],
   "source": [
    "# As a whole dataset\n",
    "df_condiments['Price per KG'].std()"
   ]
  },
  {
   "cell_type": "code",
   "execution_count": 62,
   "metadata": {},
   "outputs": [
    {
     "data": {
      "text/plain": [
       "Region       Crop                                \n",
       "ARMM         BELL PEPPER, 1 KG                        0.000000\n",
       "             GARLIC, IMPORTED, 1 KG                  64.401695\n",
       "             GARLIC, NATIVE, 1 KG                    75.721127\n",
       "             GINGER, LOOSE, 1 KG                     44.254888\n",
       "             ONION RED CREOLE (BERMUDA RED), 1 KG    70.699867\n",
       "                                                       ...    \n",
       "Region XIII  GARLIC, NATIVE, 1 KG                    55.192278\n",
       "             GINGER, LOOSE, 1 KG                     61.623198\n",
       "             ONION RED CREOLE (BERMUDA RED), 1 KG    90.518971\n",
       "             ONION WHITE (YELLOW GRANEX), 1 KG        0.000000\n",
       "             ONION, NATIVE, 1 KG                     67.559341\n",
       "Name: Price per KG, Length: 119, dtype: float64"
      ]
     },
     "execution_count": 62,
     "metadata": {},
     "output_type": "execute_result"
    }
   ],
   "source": [
    "# As a whole dataset\n",
    "df_condiments.groupby(['Region', 'Crop'])['Price per KG'].std()"
   ]
  },
  {
   "cell_type": "markdown",
   "metadata": {},
   "source": [
    "# Summary Stat Function for Fast Calculation"
   ]
  },
  {
   "cell_type": "code",
   "execution_count": 63,
   "metadata": {},
   "outputs": [
    {
     "data": {
      "text/html": [
       "<div>\n",
       "<style scoped>\n",
       "    .dataframe tbody tr th:only-of-type {\n",
       "        vertical-align: middle;\n",
       "    }\n",
       "\n",
       "    .dataframe tbody tr th {\n",
       "        vertical-align: top;\n",
       "    }\n",
       "\n",
       "    .dataframe thead th {\n",
       "        text-align: right;\n",
       "    }\n",
       "</style>\n",
       "<table border=\"1\" class=\"dataframe\">\n",
       "  <thead>\n",
       "    <tr style=\"text-align: right;\">\n",
       "      <th></th>\n",
       "      <th>Price per KG</th>\n",
       "    </tr>\n",
       "  </thead>\n",
       "  <tbody>\n",
       "    <tr>\n",
       "      <th>count</th>\n",
       "      <td>37310.000000</td>\n",
       "    </tr>\n",
       "    <tr>\n",
       "      <th>mean</th>\n",
       "      <td>46.815175</td>\n",
       "    </tr>\n",
       "    <tr>\n",
       "      <th>std</th>\n",
       "      <td>71.234263</td>\n",
       "    </tr>\n",
       "    <tr>\n",
       "      <th>min</th>\n",
       "      <td>0.000000</td>\n",
       "    </tr>\n",
       "    <tr>\n",
       "      <th>25%</th>\n",
       "      <td>0.000000</td>\n",
       "    </tr>\n",
       "    <tr>\n",
       "      <th>50%</th>\n",
       "      <td>0.000000</td>\n",
       "    </tr>\n",
       "    <tr>\n",
       "      <th>75%</th>\n",
       "      <td>103.822500</td>\n",
       "    </tr>\n",
       "    <tr>\n",
       "      <th>max</th>\n",
       "      <td>635.000000</td>\n",
       "    </tr>\n",
       "  </tbody>\n",
       "</table>\n",
       "</div>"
      ],
      "text/plain": [
       "       Price per KG\n",
       "count  37310.000000\n",
       "mean      46.815175\n",
       "std       71.234263\n",
       "min        0.000000\n",
       "25%        0.000000\n",
       "50%        0.000000\n",
       "75%      103.822500\n",
       "max      635.000000"
      ]
     },
     "execution_count": 63,
     "metadata": {},
     "output_type": "execute_result"
    }
   ],
   "source": [
    "# Descriptive Stat Summary for Continuous Data\n",
    "\n",
    "df_condiments.describe()"
   ]
  },
  {
   "cell_type": "code",
   "execution_count": 64,
   "metadata": {},
   "outputs": [
    {
     "data": {
      "text/html": [
       "<div>\n",
       "<style scoped>\n",
       "    .dataframe tbody tr th:only-of-type {\n",
       "        vertical-align: middle;\n",
       "    }\n",
       "\n",
       "    .dataframe tbody tr th {\n",
       "        vertical-align: top;\n",
       "    }\n",
       "\n",
       "    .dataframe thead th {\n",
       "        text-align: right;\n",
       "    }\n",
       "</style>\n",
       "<table border=\"1\" class=\"dataframe\">\n",
       "  <thead>\n",
       "    <tr style=\"text-align: right;\">\n",
       "      <th></th>\n",
       "      <th>Region</th>\n",
       "      <th>Province</th>\n",
       "      <th>Crop</th>\n",
       "      <th>Date</th>\n",
       "    </tr>\n",
       "  </thead>\n",
       "  <tbody>\n",
       "    <tr>\n",
       "      <th>count</th>\n",
       "      <td>37310</td>\n",
       "      <td>37310</td>\n",
       "      <td>37310</td>\n",
       "      <td>37310</td>\n",
       "    </tr>\n",
       "    <tr>\n",
       "      <th>unique</th>\n",
       "      <td>17</td>\n",
       "      <td>82</td>\n",
       "      <td>7</td>\n",
       "      <td>65</td>\n",
       "    </tr>\n",
       "    <tr>\n",
       "      <th>top</th>\n",
       "      <td>Region III</td>\n",
       "      <td>Abra</td>\n",
       "      <td>BELL PEPPER, 1 KG</td>\n",
       "      <td>2018 - 01</td>\n",
       "    </tr>\n",
       "    <tr>\n",
       "      <th>freq</th>\n",
       "      <td>3185</td>\n",
       "      <td>455</td>\n",
       "      <td>5330</td>\n",
       "      <td>574</td>\n",
       "    </tr>\n",
       "  </tbody>\n",
       "</table>\n",
       "</div>"
      ],
      "text/plain": [
       "            Region Province               Crop       Date\n",
       "count        37310    37310              37310      37310\n",
       "unique          17       82                  7         65\n",
       "top     Region III     Abra  BELL PEPPER, 1 KG  2018 - 01\n",
       "freq          3185      455               5330        574"
      ]
     },
     "execution_count": 64,
     "metadata": {},
     "output_type": "execute_result"
    }
   ],
   "source": [
    "# Descriptive Stat Summary for Categorical Data\n",
    "df_condiments.describe(include='O')"
   ]
  }
 ],
 "metadata": {
  "kernelspec": {
   "display_name": "Python 3",
   "language": "python",
   "name": "python3"
  },
  "language_info": {
   "codemirror_mode": {
    "name": "ipython",
    "version": 3
   },
   "file_extension": ".py",
   "mimetype": "text/x-python",
   "name": "python",
   "nbconvert_exporter": "python",
   "pygments_lexer": "ipython3",
   "version": "3.8.5"
  },
  "toc": {
   "base_numbering": 1,
   "nav_menu": {},
   "number_sections": true,
   "sideBar": true,
   "skip_h1_title": false,
   "title_cell": "Table of Contents",
   "title_sidebar": "Contents",
   "toc_cell": false,
   "toc_position": {},
   "toc_section_display": true,
   "toc_window_display": false
  }
 },
 "nbformat": 4,
 "nbformat_minor": 4
}
